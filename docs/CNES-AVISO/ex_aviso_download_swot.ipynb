{
 "cells": [
  {
   "cell_type": "markdown",
   "metadata": {},
   "source": [
    "\n",
    "# Download Swot from AVISO\n",
    "This notebook explains how to explore and retrieve available SWOT LR data from AVISO's THREDDS Data Server and FTP Server, presented [here](https://www.aviso.altimetry.fr/en/missions/current-missions/swot/access-to-data.html).\n",
    "\n",
    "L2 data can be explored at: https://tds.aviso.altimetry.fr/thredds/L2/L2-SWOT-DATA/L2-SWOT.html\n",
    "\n",
    "L3 data can be explored at: https://tds.aviso.altimetry.fr/thredds/L3/dataset-l3-swot-karin-nadir-pre-validated.html\n"
   ]
  },
  {
   "cell_type": "markdown",
   "metadata": {},
   "source": [
    "<div class=\"alert alert-danger\"><h4>Warning</h4><p>This tutorial is dedicated to **external use** of Swot data only, it cannot be ran inside CNES infrastructure because of the technical proxy.</p></div>\n",
    "\n"
   ]
  },
  {
   "cell_type": "markdown",
   "metadata": {},
   "source": [
    "<div class=\"alert alert-info\"><h4>Note</h4><p>To learn how to subset and download unsmoothed (250-m) Swot LR data, please consult this tutorial:\n",
    "   `sphx_glr_tutorials_auto_tutorials_external_subset_unsmoothed_aviso.py`</p></div>\n",
    "\n"
   ]
  },
  {
   "cell_type": "markdown",
   "metadata": {},
   "source": [
    "## Tutorial Objectives\n",
    "* Discover Aviso's Thredds Data Server catalogue\n",
    "* Download files through HTTP and FTP\n",
    "* Download data subset through Opendap\n",
    "\n"
   ]
  },
  {
   "cell_type": "markdown",
   "metadata": {},
   "source": [
    "## Import + code\n",
    "\n"
   ]
  },
  {
   "cell_type": "code",
   "execution_count": 1,
   "metadata": {
    "collapsed": false,
    "jupyter": {
     "outputs_hidden": false
    }
   },
   "outputs": [],
   "source": [
    "import os\n",
    "import re\n",
    "from getpass import getpass\n",
    "import requests as rq\n",
    "import ftplib\n",
    "import xarray as xr\n",
    "from xarray.backends import PydapDataStore"
   ]
  },
  {
   "cell_type": "code",
   "execution_count": 2,
   "metadata": {
    "collapsed": false,
    "jupyter": {
     "outputs_hidden": false
    }
   },
   "outputs": [],
   "source": [
    "def _get_filename_from_cd(cd):\n",
    "    \"\"\" Get filename from content-disposition \"\"\"\n",
    "    if not cd:\n",
    "        return None\n",
    "    fname = re.findall('filename=\"(.+)\"', cd)\n",
    "    if len(fname) == 0:\n",
    "        return None\n",
    "    return fname[0]\n",
    "\n",
    "def http_download_file(dataset_url:str, output_path:str):\n",
    "    response = rq.get(dataset_url, auth=(username, password))\n",
    "    \n",
    "    filename = _get_filename_from_cd(response.headers['content-disposition'])\n",
    "    file_path = os.path.join(output_path, filename)\n",
    "    \n",
    "    open(file_path, 'wb').write(response.content)\n",
    "    return file_path\n",
    "\n",
    "def _download_file(ftp:str, filename:str, target_directory:str):\n",
    "    try:\n",
    "        local_filepath = os.path.join(target_directory, filename)\n",
    "        with open(local_filepath, 'wb') as file:\n",
    "            ftp.retrbinary('RETR %s' % filename, file.write)\n",
    "            print(f\"Downloaded {filename} to {local_filepath}\")\n",
    "            return local_filepath\n",
    "    except Exception as e:\n",
    "        print(f\"Error downloading {filename}: {e}\")\n",
    "        \n",
    "def ftp_download_file(ftp_path:str, filename:str, output_path:str):\n",
    "    # Set up FTP server details\n",
    "    ftpAVISO = 'ftp-access.aviso.altimetry.fr'\n",
    "    try:\n",
    "        # Logging into FTP server using provided credentials\n",
    "        with ftplib.FTP(ftpAVISO) as ftp:\n",
    "            ftp.login(username, password)\n",
    "            ftp.cwd(ftp_path)\n",
    "            print(f\"Connection Established {ftp.getwelcome()}\")\n",
    "\n",
    "            # Check if the file exists in the directory\n",
    "            if filename in ftp.nlst():\n",
    "                return _download_file(ftp, filename, output_path)\n",
    "            else:\n",
    "                print(f\"File {filename} does not exist in the directory {ftp}.\")\n",
    "    except ftplib.error_perm as e:\n",
    "        print(f\"FTP error: {e}\")\n",
    "    except Exception as e:\n",
    "        print(f\"Error: {e}\")\n",
    "\n",
    "\n",
    "def open_opendap_dataset(dataset_url):\n",
    "    session = rq.Session()\n",
    "    session.auth = (username, password)\n",
    "    store = PydapDataStore.open(dataset_url, session=session, timeout=300, user_charset='UTF-8')\n",
    "    return xr.open_dataset(store)"
   ]
  },
  {
   "cell_type": "markdown",
   "metadata": {},
   "source": [
    "## Parameters\n",
    "Define output folder to save results\n",
    "\n"
   ]
  },
  {
   "cell_type": "code",
   "execution_count": 3,
   "metadata": {
    "collapsed": false,
    "jupyter": {
     "outputs_hidden": false
    }
   },
   "outputs": [],
   "source": [
    "output_dir = \"downloads\""
   ]
  },
  {
   "cell_type": "markdown",
   "metadata": {},
   "source": [
    "### Authentication parameters\n",
    "Enter your AVISO+ credentials\n",
    "\n"
   ]
  },
  {
   "cell_type": "code",
   "execution_count": 7,
   "metadata": {
    "collapsed": false,
    "jupyter": {
     "outputs_hidden": false
    }
   },
   "outputs": [
    {
     "name": "stdin",
     "output_type": "stream",
     "text": [
      "Enter password for cyril.germineaud@cnes.fr: ········\n"
     ]
    }
   ],
   "source": [
    "password = getpass(f\"Enter password for {username}:\")"
   ]
  },
  {
   "cell_type": "code",
   "execution_count": null,
   "metadata": {
    "collapsed": false,
    "jupyter": {
     "outputs_hidden": false
    }
   },
   "outputs": [],
   "source": [
    "username = input(\"Enter username:\")"
   ]
  },
  {
   "cell_type": "markdown",
   "metadata": {},
   "source": [
    "## Download files through HTTP\n",
    "To find the data you want to download, you can explore the [Swot LR L2](https://tds.aviso.altimetry.fr/thredds/L2/L2-SWOT-DATA/L2-SWOT.html) or [Swot LR L3](https://tds.aviso.altimetry.fr/thredds/L3/dataset-l3-swot-karin-nadir-pre-validated.html) catalogues.\n",
    "Copy the **FileServer** url to download data through HTTP : \n",
    "\n",
    "<img src=\"file://../../../_static/tutorials/TDS_file_server.png\">\n",
    "\n"
   ]
  },
  {
   "cell_type": "markdown",
   "metadata": {},
   "source": [
    "### Swot LR L2 data\n",
    "\n"
   ]
  },
  {
   "cell_type": "code",
   "execution_count": null,
   "metadata": {
    "collapsed": false,
    "jupyter": {
     "outputs_hidden": false
    }
   },
   "outputs": [],
   "source": [
    "l2_dataset_url = \"https://tds.aviso.altimetry.fr/thredds/fileServer/dataset-l2-swot-karin-lr-ssh-pre-validated/PIC0/Basic/cycle_014/SWOT_L2_LR_SSH_Basic_014_001_20240417T111950_20240417T121118_PIC0_01.nc\""
   ]
  },
  {
   "cell_type": "code",
   "execution_count": null,
   "metadata": {
    "collapsed": false,
    "jupyter": {
     "outputs_hidden": false
    }
   },
   "outputs": [],
   "source": [
    "l2_file = http_download_file(l2_dataset_url, output_dir)\n",
    "l2_file"
   ]
  },
  {
   "cell_type": "markdown",
   "metadata": {},
   "source": [
    "### Swot LR L3 data\n",
    "\n"
   ]
  },
  {
   "cell_type": "code",
   "execution_count": null,
   "metadata": {
    "collapsed": false,
    "jupyter": {
     "outputs_hidden": false
    }
   },
   "outputs": [],
   "source": [
    "l3_dataset_url = \"https://tds.aviso.altimetry.fr/thredds/fileServer/dataset-l3-swot-karin-nadir-pre-validated/l3_lr_ssh/v1_0/Basic/cycle_014/SWOT_L3_LR_SSH_Basic_014_001_20240417T111950_20240417T121116_v1.0.nc\""
   ]
  },
  {
   "cell_type": "code",
   "execution_count": null,
   "metadata": {
    "collapsed": false,
    "jupyter": {
     "outputs_hidden": false
    }
   },
   "outputs": [],
   "source": [
    "l3_file = http_download_file(l3_dataset_url, output_dir)\n",
    "l3_file"
   ]
  },
  {
   "cell_type": "markdown",
   "metadata": {},
   "source": [
    "## Download files through FTP\n",
    "Files available through FTP follow the same file tree as in the THREDDS Data Server.\n",
    "\n",
    ".. list-table:: Discover data on AVISO FTP\n",
    "  :width: 130%\n",
    "  :widths: auto\n",
    "  :header-rows: 1\n",
    "\n",
    "  * - Data\n",
    "    - FTP starting point\n",
    "    - Browsing files URL\n",
    "  * - Swot LR L2\n",
    "    - */swot_products/l2_karin/l2_lr_ssh*\n",
    "    - https://tds.aviso.altimetry.fr/thredds/catalog/dataset-l2-swot-karin-lr-ssh-pre-validated/catalog.html\n",
    "  * - Swot LR L3\n",
    "    - */swot_products/l3_karin_nadir/l3_lr_ssh*\n",
    "    - https://tds.aviso.altimetry.fr/thredds/catalog/dataset-l3-swot-karin-nadir-pre-validated/catalog.html\n",
    "\n"
   ]
  },
  {
   "cell_type": "markdown",
   "metadata": {},
   "source": [
    "### Swot LR L2 data\n",
    "\n"
   ]
  },
  {
   "cell_type": "code",
   "execution_count": null,
   "metadata": {
    "collapsed": false,
    "jupyter": {
     "outputs_hidden": false
    }
   },
   "outputs": [],
   "source": [
    "l2_ftp_path = '/swot_products/l2_karin/l2_lr_ssh/PGC0/WindWave/cycle_001/'\n",
    "l2_ftp_file = 'SWOT_L2_LR_SSH_WindWave_001_155_20230726T173636_20230726T182805_PGC0_01.nc'"
   ]
  },
  {
   "cell_type": "code",
   "execution_count": null,
   "metadata": {
    "collapsed": false,
    "jupyter": {
     "outputs_hidden": false
    }
   },
   "outputs": [],
   "source": [
    "l2_file = ftp_download_file(l2_ftp_path, l2_ftp_file, output_dir)\n",
    "l2_file"
   ]
  },
  {
   "cell_type": "markdown",
   "metadata": {},
   "source": [
    "### Swot LR L3 data\n",
    "\n"
   ]
  },
  {
   "cell_type": "code",
   "execution_count": null,
   "metadata": {
    "collapsed": false,
    "jupyter": {
     "outputs_hidden": false
    }
   },
   "outputs": [],
   "source": [
    "l3_ftp_path = '/swot_products/l3_karin_nadir/l3_lr_ssh/v1_0/Basic/cycle_011/'\n",
    "l3_ftp_file = 'SWOT_L3_LR_SSH_Basic_011_550_20240305T114902_20240305T124029_v1.0.nc'"
   ]
  },
  {
   "cell_type": "code",
   "execution_count": null,
   "metadata": {
    "collapsed": false,
    "jupyter": {
     "outputs_hidden": false
    }
   },
   "outputs": [],
   "source": [
    "l3_file = ftp_download_file(l3_ftp_path, l3_ftp_file, output_dir)\n",
    "l3_file"
   ]
  },
  {
   "cell_type": "markdown",
   "metadata": {},
   "source": [
    "## Load subset via OPeNDAP\n",
    "To find the data you want to subset, you can explore the [Swot LR L2](https://tds.aviso.altimetry.fr/thredds/L2/L2-SWOT-DATA/L2-SWOT.html) or [Swot LR L3](https://tds.aviso.altimetry.fr/thredds/L3/dataset-l3-swot-karin-nadir-pre-validated.html) catalogues.\n",
    "\n",
    "Copy the **OPeNDAP** url to subset data through Opendap : \n",
    "\n",
    "<img src=\"file://../../../_static/tutorials/TDS_opendap.png\">\n",
    "\n"
   ]
  },
  {
   "cell_type": "markdown",
   "metadata": {},
   "source": [
    "### Swot LR L2 data\n",
    "\n"
   ]
  },
  {
   "cell_type": "code",
   "execution_count": null,
   "metadata": {
    "collapsed": false,
    "jupyter": {
     "outputs_hidden": false
    }
   },
   "outputs": [],
   "source": [
    "l2_dataset_url = \"https://tds.aviso.altimetry.fr/thredds/dodsC/dataset-l2-swot-karin-lr-ssh-pre-validated/PIC0/Basic/cycle_014/SWOT_L2_LR_SSH_Basic_014_001_20240417T111950_20240417T121118_PIC0_01.nc\""
   ]
  },
  {
   "cell_type": "code",
   "execution_count": null,
   "metadata": {
    "collapsed": false,
    "jupyter": {
     "outputs_hidden": false
    }
   },
   "outputs": [],
   "source": [
    "l2_dataset = open_opendap_dataset(l2_dataset_url)\n",
    "l2_dataset"
   ]
  },
  {
   "cell_type": "markdown",
   "metadata": {},
   "source": [
    "#### Select variables\n",
    "\n"
   ]
  },
  {
   "cell_type": "code",
   "execution_count": null,
   "metadata": {
    "collapsed": false,
    "jupyter": {
     "outputs_hidden": false
    }
   },
   "outputs": [],
   "source": [
    "variables = ['time', 'ssha_karin_2', 'mean_sea_surface_cnescls']"
   ]
  },
  {
   "cell_type": "code",
   "execution_count": null,
   "metadata": {
    "collapsed": false,
    "jupyter": {
     "outputs_hidden": false
    }
   },
   "outputs": [],
   "source": [
    "ds = l2_dataset[variables]\n",
    "ds"
   ]
  },
  {
   "cell_type": "markdown",
   "metadata": {},
   "source": [
    "#### Select lines\n",
    "Select lines to load\n",
    "\n"
   ]
  },
  {
   "cell_type": "code",
   "execution_count": null,
   "metadata": {
    "collapsed": false,
    "jupyter": {
     "outputs_hidden": false
    }
   },
   "outputs": [],
   "source": [
    "idx_first, idx_last = 5000, 6000"
   ]
  },
  {
   "cell_type": "code",
   "execution_count": null,
   "metadata": {
    "collapsed": false,
    "jupyter": {
     "outputs_hidden": false
    }
   },
   "outputs": [],
   "source": [
    "ds = xr.merge([ds[var][idx_first:idx_last] for var in variables])"
   ]
  },
  {
   "cell_type": "code",
   "execution_count": null,
   "metadata": {
    "collapsed": false,
    "jupyter": {
     "outputs_hidden": false
    }
   },
   "outputs": [],
   "source": [
    "ds.load()"
   ]
  },
  {
   "cell_type": "markdown",
   "metadata": {},
   "source": [
    "### Swot LR L3 data\n",
    "\n"
   ]
  },
  {
   "cell_type": "code",
   "execution_count": null,
   "metadata": {
    "collapsed": false,
    "jupyter": {
     "outputs_hidden": false
    }
   },
   "outputs": [],
   "source": [
    "l3_dataset_url = \"https://tds.aviso.altimetry.fr/thredds/dodsC/dataset-l3-swot-karin-nadir-pre-validated/l3_lr_ssh/v1_0/Basic/cycle_014/SWOT_L3_LR_SSH_Basic_014_350_20240429T223450_20240429T232617_v1.0.nc\""
   ]
  },
  {
   "cell_type": "code",
   "execution_count": null,
   "metadata": {
    "collapsed": false,
    "jupyter": {
     "outputs_hidden": false
    }
   },
   "outputs": [],
   "source": [
    "l3_dataset = open_opendap_dataset(l3_dataset_url)\n",
    "l3_dataset"
   ]
  },
  {
   "cell_type": "markdown",
   "metadata": {},
   "source": [
    "#### Select variables\n",
    "\n"
   ]
  },
  {
   "cell_type": "code",
   "execution_count": null,
   "metadata": {
    "collapsed": false,
    "jupyter": {
     "outputs_hidden": false
    }
   },
   "outputs": [],
   "source": [
    "variables = ['time', 'ssha']"
   ]
  },
  {
   "cell_type": "code",
   "execution_count": null,
   "metadata": {
    "collapsed": false,
    "jupyter": {
     "outputs_hidden": false
    }
   },
   "outputs": [],
   "source": [
    "ds = l3_dataset[variables]\n",
    "ds"
   ]
  },
  {
   "cell_type": "markdown",
   "metadata": {},
   "source": [
    "#### Select lines\n",
    "Select lines to load\n",
    "\n"
   ]
  },
  {
   "cell_type": "code",
   "execution_count": null,
   "metadata": {
    "collapsed": false,
    "jupyter": {
     "outputs_hidden": false
    }
   },
   "outputs": [],
   "source": [
    "idx_first, idx_last = 5000, 6000"
   ]
  },
  {
   "cell_type": "code",
   "execution_count": null,
   "metadata": {
    "collapsed": false,
    "jupyter": {
     "outputs_hidden": false
    }
   },
   "outputs": [],
   "source": [
    "ds = xr.merge([ds[var][idx_first:idx_last] for var in variables])"
   ]
  },
  {
   "cell_type": "code",
   "execution_count": null,
   "metadata": {
    "collapsed": false,
    "jupyter": {
     "outputs_hidden": false
    }
   },
   "outputs": [],
   "source": [
    "ds.load()"
   ]
  },
  {
   "cell_type": "markdown",
   "metadata": {},
   "source": [
    "### Store subset to NetCDF file\n",
    "\n"
   ]
  },
  {
   "cell_type": "code",
   "execution_count": null,
   "metadata": {
    "collapsed": false,
    "jupyter": {
     "outputs_hidden": false
    }
   },
   "outputs": [],
   "source": [
    "ds.to_netcdf(os.path.join(output_dir, 'dataset.nc'))"
   ]
  }
 ],
 "metadata": {
  "kernelspec": {
   "display_name": "Python 3 (ipykernel)",
   "language": "python",
   "name": "python3"
  },
  "language_info": {
   "codemirror_mode": {
    "name": "ipython",
    "version": 3
   },
   "file_extension": ".py",
   "mimetype": "text/x-python",
   "name": "python",
   "nbconvert_exporter": "python",
   "pygments_lexer": "ipython3",
   "version": "3.11.8"
  }
 },
 "nbformat": 4,
 "nbformat_minor": 4
}
